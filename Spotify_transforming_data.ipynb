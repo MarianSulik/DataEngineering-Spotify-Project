{
 "cells": [
  {
   "cell_type": "code",
   "execution_count": null,
   "id": "6c8855ae",
   "metadata": {},
   "outputs": [],
   "source": [
    "!pip install spotipy\n",
    "#https://spotipy.readthedocs.io/en/2.22.1/"
   ]
  },
  {
   "cell_type": "code",
   "execution_count": 2,
   "id": "d8cd6723",
   "metadata": {},
   "outputs": [],
   "source": [
    "import spotipy\n",
    "from spotipy.oauth2 import SpotifyClientCredentials\n",
    "import pandas as pd"
   ]
  },
  {
   "cell_type": "code",
   "execution_count": 3,
   "id": "ce46dc1c",
   "metadata": {},
   "outputs": [],
   "source": [
    "#add your keys here\n",
    "client_credentials_manager = SpotifyClientCredentials(client_id=\"eaf60b7162ff4116972e3b18234b7a9c\", client_secret=\"759acebc0e1a45569b7f5369c60e89f9\")"
   ]
  },
  {
   "cell_type": "code",
   "execution_count": 169,
   "id": "fe3ca3ff",
   "metadata": {},
   "outputs": [],
   "source": [
    "sp = spotipy.Spotify(client_credentials_manager = client_credentials_manager)"
   ]
  },
  {
   "cell_type": "code",
   "execution_count": 4,
   "id": "593a8fc4",
   "metadata": {},
   "outputs": [],
   "source": [
    "playlist_link = \"https://open.spotify.com/playlist/37i9dQZEVXbMwW10JmAnzE\" #SK"
   ]
  },
  {
   "cell_type": "code",
   "execution_count": 6,
   "id": "6ce318ff",
   "metadata": {},
   "outputs": [
    {
     "data": {
      "text/plain": [
       "'37i9dQZEVXbMwW10JmAnzE'"
      ]
     },
     "execution_count": 6,
     "metadata": {},
     "output_type": "execute_result"
    }
   ],
   "source": [
    "playlist_URI = playlist_link.split(\"/\")[-1]\n",
    "#playlist_URI = playlist_link.split(\"/\")[-1].split('?')[0]\n",
    "playlist_URI"
   ]
  },
  {
   "cell_type": "code",
   "execution_count": 172,
   "id": "a6195585",
   "metadata": {},
   "outputs": [],
   "source": [
    "#sp.playlist_tracks(playlist_URI)\n",
    "data = sp.playlist_tracks(playlist_URI)\n",
    "len(data['items']) #count albums"
   ]
  },
  {
   "cell_type": "code",
   "execution_count": 295,
   "id": "bcf7770e",
   "metadata": {},
   "outputs": [],
   "source": [
    "#from json data we extract specific elements put them into the dictionary and then create list of dictionary\n",
    "album_list = []\n",
    "for row in data['items']:\n",
    "    album_id = row['track']['album']['id']\n",
    "    album_name = row['track']['album']['name']\n",
    "    album_total_track = row['track']['album']['total_tracks']\n",
    "    album_release_date = row['track']['album']['release_date']\n",
    "    #we will create dictionare out of it and then data frame\n",
    "    album_element= {'album_id': album_id, 'album_name': album_name, 'album_total_track': album_total_track, \n",
    "                    'album_release_date': album_release_date}\n",
    "    #print(album_element)\n",
    "    album_list.append(album_element)\n",
    "#album_list\n",
    "album_df = pd.DataFrame.from_dict(album_list)\n",
    "#album_df.head()\n",
    "#album_df.info()"
   ]
  },
  {
   "cell_type": "code",
   "execution_count": 292,
   "id": "c63f726c",
   "metadata": {},
   "outputs": [],
   "source": [
    "artist_list = []\n",
    "for row in data['items']:\n",
    "    for key, value in row.items():\n",
    "        if key == \"track\":\n",
    "            for artist in value['artists']:\n",
    "                artist_dict = {'artist_id':artist['id'], 'artist_name':artist['name'], 'external_url': artist['href']}\n",
    "                artist_list.append(artist_dict)\n",
    "artist_df = pd.DataFrame.from_dict(artist_list)\n",
    "#artist_df\n",
    "#artist_df.head()"
   ]
  },
  {
   "cell_type": "code",
   "execution_count": 307,
   "id": "32d5c9ce",
   "metadata": {},
   "outputs": [],
   "source": [
    "song_list = []\n",
    "for row in data['items']:\n",
    "    song_id = row['track']['id']\n",
    "    song_name = row['track']['name']\n",
    "    song_duration = row['track']['duration_ms']\n",
    "    song_url = row['track']['external_urls']['spotify']\n",
    "    song_popularity = row['track']['popularity']\n",
    "    song_added = row['added_at']\n",
    "    album_id = row['track']['album']['id']\n",
    "    artist_id = row['track']['album']['artists'][0]['id']\n",
    "    song_element = {'song_id':song_id,'song_name':song_name,'duration_ms':song_duration,'url':song_url,\n",
    "                    'popularity':song_popularity,'song_added':song_added,'album_id':album_id,\n",
    "                    'artist_id':artist_id\n",
    "                   }\n",
    "    song_list.append(song_element)\n",
    "#song_list\n",
    "song_df = pd.DataFrame.from_dict(song_list)\n",
    "#song_df\n",
    "#song_df.head()\n",
    "#song_df.info()"
   ]
  },
  {
   "cell_type": "code",
   "execution_count": 304,
   "id": "70ef1d27",
   "metadata": {},
   "outputs": [],
   "source": [
    "#remove duplicates from primary kye (if any)\n",
    "album_df = album_df.drop_duplicates(subset=['album_id'])\n",
    "artist_df = artist_df.drop_duplicates(subset=['artist_id'])\n",
    "song_df = song_df.drop_duplicates(subset=['song_id'])\n",
    "#album_df"
   ]
  },
  {
   "cell_type": "code",
   "execution_count": 308,
   "id": "3ad365ae",
   "metadata": {},
   "outputs": [],
   "source": [
    "album_df['album_release_date'] = pd.to_datetime(album_df['album_release_date'])\n",
    "song_df['song_added'] = pd.to_datetime(song_df['song_added'])"
   ]
  }
 ],
 "metadata": {
  "kernelspec": {
   "display_name": "Python 3 (ipykernel)",
   "language": "python",
   "name": "python3"
  },
  "language_info": {
   "codemirror_mode": {
    "name": "ipython",
    "version": 3
   },
   "file_extension": ".py",
   "mimetype": "text/x-python",
   "name": "python",
   "nbconvert_exporter": "python",
   "pygments_lexer": "ipython3",
   "version": "3.9.12"
  }
 },
 "nbformat": 4,
 "nbformat_minor": 5
}
