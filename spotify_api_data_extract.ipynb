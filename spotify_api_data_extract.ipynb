{
 "cells": [
  {
   "cell_type": "code",
   "execution_count": null,
   "id": "2a2b125c",
   "metadata": {},
   "outputs": [],
   "source": [
    "import json\n",
    "import os\n",
    "import spotipy\n",
    "from spotipy.oauth2 import SpotifyClientCredentials\n",
    "import boto3 #for store data into S3 bucket we use boto3\n",
    "from datetime import datetime\n",
    "\n",
    "def lambda_handler(event, context): \n",
    "    \n",
    "    client_id = os.environ.get('client_id')\n",
    "    client_secret = os.environ.get('client_secret')\n",
    "    client_credentials_manager = SpotifyClientCredentials(client_id=client_id, client_secret=client_secret)\n",
    "    sp = spotipy.Spotify(client_credentials_manager = client_credentials_manager)\n",
    "    \n",
    "    playlists = sp.user_playlists('spotify')\n",
    "    playlist_link = \"https://open.spotify.com/playlist/37i9dQZEVXbMwW10JmAnzE\"\n",
    "    playlist_URI = playlist_link.split(\"/\")[-1]\n",
    "    spotify_data = sp.playlist_tracks(playlist_URI)\n",
    "    \n",
    "    # to comunicate with AWS services we need to use these clients\n",
    "    cilent = boto3.client('s3')\n",
    "    \n",
    "    filename = 'spotify_raw_' + str(datetime.now()) + '.json'\n",
    "    \n",
    "    cilent.put_object(\n",
    "        Bucket='spotify-etl-project-sul',\n",
    "        Key='raw_data/to_processed/' + filename, \n",
    "        Body=json.dumps(spotify_data)\n",
    "        )"
   ]
  }
 ],
 "metadata": {
  "kernelspec": {
   "display_name": "Python 3 (ipykernel)",
   "language": "python",
   "name": "python3"
  },
  "language_info": {
   "codemirror_mode": {
    "name": "ipython",
    "version": 3
   },
   "file_extension": ".py",
   "mimetype": "text/x-python",
   "name": "python",
   "nbconvert_exporter": "python",
   "pygments_lexer": "ipython3",
   "version": "3.9.12"
  }
 },
 "nbformat": 4,
 "nbformat_minor": 5
}
